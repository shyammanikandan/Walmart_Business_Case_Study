{
 "cells": [
  {
   "cell_type": "code",
   "execution_count": 261,
   "id": "d353ff2f",
   "metadata": {},
   "outputs": [],
   "source": [
    "import numpy as np\n",
    "import pandas as pd\n",
    "import matplotlib.pyplot as plt\n",
    "import seaborn as sns"
   ]
  },
  {
   "cell_type": "code",
   "execution_count": 262,
   "id": "98f3ffc8",
   "metadata": {},
   "outputs": [],
   "source": [
    "data=pd.read_csv('walmart_data.csv')"
   ]
  },
  {
   "cell_type": "code",
   "execution_count": 263,
   "id": "5ca24bf6",
   "metadata": {},
   "outputs": [
    {
     "data": {
      "text/html": [
       "<div>\n",
       "<style scoped>\n",
       "    .dataframe tbody tr th:only-of-type {\n",
       "        vertical-align: middle;\n",
       "    }\n",
       "\n",
       "    .dataframe tbody tr th {\n",
       "        vertical-align: top;\n",
       "    }\n",
       "\n",
       "    .dataframe thead th {\n",
       "        text-align: right;\n",
       "    }\n",
       "</style>\n",
       "<table border=\"1\" class=\"dataframe\">\n",
       "  <thead>\n",
       "    <tr style=\"text-align: right;\">\n",
       "      <th></th>\n",
       "      <th>User_ID</th>\n",
       "      <th>Product_ID</th>\n",
       "      <th>Gender</th>\n",
       "      <th>Age</th>\n",
       "      <th>Occupation</th>\n",
       "      <th>City_Category</th>\n",
       "      <th>Stay_In_Current_City_Years</th>\n",
       "      <th>Marital_Status</th>\n",
       "      <th>Product_Category</th>\n",
       "      <th>Purchase</th>\n",
       "    </tr>\n",
       "  </thead>\n",
       "  <tbody>\n",
       "    <tr>\n",
       "      <th>0</th>\n",
       "      <td>1000001</td>\n",
       "      <td>P00069042</td>\n",
       "      <td>F</td>\n",
       "      <td>0-17</td>\n",
       "      <td>10</td>\n",
       "      <td>A</td>\n",
       "      <td>2</td>\n",
       "      <td>0</td>\n",
       "      <td>3</td>\n",
       "      <td>8370</td>\n",
       "    </tr>\n",
       "    <tr>\n",
       "      <th>1</th>\n",
       "      <td>1000001</td>\n",
       "      <td>P00248942</td>\n",
       "      <td>F</td>\n",
       "      <td>0-17</td>\n",
       "      <td>10</td>\n",
       "      <td>A</td>\n",
       "      <td>2</td>\n",
       "      <td>0</td>\n",
       "      <td>1</td>\n",
       "      <td>15200</td>\n",
       "    </tr>\n",
       "    <tr>\n",
       "      <th>2</th>\n",
       "      <td>1000001</td>\n",
       "      <td>P00087842</td>\n",
       "      <td>F</td>\n",
       "      <td>0-17</td>\n",
       "      <td>10</td>\n",
       "      <td>A</td>\n",
       "      <td>2</td>\n",
       "      <td>0</td>\n",
       "      <td>12</td>\n",
       "      <td>1422</td>\n",
       "    </tr>\n",
       "    <tr>\n",
       "      <th>3</th>\n",
       "      <td>1000001</td>\n",
       "      <td>P00085442</td>\n",
       "      <td>F</td>\n",
       "      <td>0-17</td>\n",
       "      <td>10</td>\n",
       "      <td>A</td>\n",
       "      <td>2</td>\n",
       "      <td>0</td>\n",
       "      <td>12</td>\n",
       "      <td>1057</td>\n",
       "    </tr>\n",
       "    <tr>\n",
       "      <th>4</th>\n",
       "      <td>1000002</td>\n",
       "      <td>P00285442</td>\n",
       "      <td>M</td>\n",
       "      <td>55+</td>\n",
       "      <td>16</td>\n",
       "      <td>C</td>\n",
       "      <td>4+</td>\n",
       "      <td>0</td>\n",
       "      <td>8</td>\n",
       "      <td>7969</td>\n",
       "    </tr>\n",
       "  </tbody>\n",
       "</table>\n",
       "</div>"
      ],
      "text/plain": [
       "   User_ID Product_ID Gender   Age  Occupation City_Category  \\\n",
       "0  1000001  P00069042      F  0-17          10             A   \n",
       "1  1000001  P00248942      F  0-17          10             A   \n",
       "2  1000001  P00087842      F  0-17          10             A   \n",
       "3  1000001  P00085442      F  0-17          10             A   \n",
       "4  1000002  P00285442      M   55+          16             C   \n",
       "\n",
       "  Stay_In_Current_City_Years  Marital_Status  Product_Category  Purchase  \n",
       "0                          2               0                 3      8370  \n",
       "1                          2               0                 1     15200  \n",
       "2                          2               0                12      1422  \n",
       "3                          2               0                12      1057  \n",
       "4                         4+               0                 8      7969  "
      ]
     },
     "execution_count": 263,
     "metadata": {},
     "output_type": "execute_result"
    }
   ],
   "source": [
    "data.head()"
   ]
  },
  {
   "cell_type": "code",
   "execution_count": 264,
   "id": "212f3b3c",
   "metadata": {},
   "outputs": [
    {
     "name": "stdout",
     "output_type": "stream",
     "text": [
      "<class 'pandas.core.frame.DataFrame'>\n",
      "RangeIndex: 550068 entries, 0 to 550067\n",
      "Data columns (total 10 columns):\n",
      " #   Column                      Non-Null Count   Dtype \n",
      "---  ------                      --------------   ----- \n",
      " 0   User_ID                     550068 non-null  int64 \n",
      " 1   Product_ID                  550068 non-null  object\n",
      " 2   Gender                      550068 non-null  object\n",
      " 3   Age                         550068 non-null  object\n",
      " 4   Occupation                  550068 non-null  int64 \n",
      " 5   City_Category               550068 non-null  object\n",
      " 6   Stay_In_Current_City_Years  550068 non-null  object\n",
      " 7   Marital_Status              550068 non-null  int64 \n",
      " 8   Product_Category            550068 non-null  int64 \n",
      " 9   Purchase                    550068 non-null  int64 \n",
      "dtypes: int64(5), object(5)\n",
      "memory usage: 42.0+ MB\n"
     ]
    }
   ],
   "source": [
    "data.info()"
   ]
  },
  {
   "cell_type": "code",
   "execution_count": 265,
   "id": "237e4975",
   "metadata": {},
   "outputs": [
    {
     "data": {
      "text/plain": [
       "(550068, 10)"
      ]
     },
     "execution_count": 265,
     "metadata": {},
     "output_type": "execute_result"
    }
   ],
   "source": [
    "data.shape"
   ]
  },
  {
   "cell_type": "code",
   "execution_count": 266,
   "id": "2c99bf95",
   "metadata": {},
   "outputs": [
    {
     "data": {
      "text/plain": [
       "User_ID                       0\n",
       "Product_ID                    0\n",
       "Gender                        0\n",
       "Age                           0\n",
       "Occupation                    0\n",
       "City_Category                 0\n",
       "Stay_In_Current_City_Years    0\n",
       "Marital_Status                0\n",
       "Product_Category              0\n",
       "Purchase                      0\n",
       "dtype: int64"
      ]
     },
     "execution_count": 266,
     "metadata": {},
     "output_type": "execute_result"
    }
   ],
   "source": [
    "data.isna().sum()"
   ]
  },
  {
   "cell_type": "code",
   "execution_count": 267,
   "id": "1a60fd08",
   "metadata": {},
   "outputs": [
    {
     "data": {
      "text/html": [
       "<div>\n",
       "<style scoped>\n",
       "    .dataframe tbody tr th:only-of-type {\n",
       "        vertical-align: middle;\n",
       "    }\n",
       "\n",
       "    .dataframe tbody tr th {\n",
       "        vertical-align: top;\n",
       "    }\n",
       "\n",
       "    .dataframe thead th {\n",
       "        text-align: right;\n",
       "    }\n",
       "</style>\n",
       "<table border=\"1\" class=\"dataframe\">\n",
       "  <thead>\n",
       "    <tr style=\"text-align: right;\">\n",
       "      <th></th>\n",
       "      <th>User_ID</th>\n",
       "      <th>Product_ID</th>\n",
       "      <th>Gender</th>\n",
       "      <th>Age</th>\n",
       "      <th>Occupation</th>\n",
       "      <th>City_Category</th>\n",
       "      <th>Stay_In_Current_City_Years</th>\n",
       "      <th>Marital_Status</th>\n",
       "      <th>Product_Category</th>\n",
       "      <th>Purchase</th>\n",
       "    </tr>\n",
       "  </thead>\n",
       "  <tbody>\n",
       "    <tr>\n",
       "      <th>0</th>\n",
       "      <td>1000001</td>\n",
       "      <td>P00069042</td>\n",
       "      <td>F</td>\n",
       "      <td>0-17</td>\n",
       "      <td>10</td>\n",
       "      <td>A</td>\n",
       "      <td>2</td>\n",
       "      <td>0</td>\n",
       "      <td>3</td>\n",
       "      <td>8370</td>\n",
       "    </tr>\n",
       "    <tr>\n",
       "      <th>1</th>\n",
       "      <td>1000001</td>\n",
       "      <td>P00248942</td>\n",
       "      <td>F</td>\n",
       "      <td>0-17</td>\n",
       "      <td>10</td>\n",
       "      <td>A</td>\n",
       "      <td>2</td>\n",
       "      <td>0</td>\n",
       "      <td>1</td>\n",
       "      <td>15200</td>\n",
       "    </tr>\n",
       "    <tr>\n",
       "      <th>2</th>\n",
       "      <td>1000001</td>\n",
       "      <td>P00087842</td>\n",
       "      <td>F</td>\n",
       "      <td>0-17</td>\n",
       "      <td>10</td>\n",
       "      <td>A</td>\n",
       "      <td>2</td>\n",
       "      <td>0</td>\n",
       "      <td>12</td>\n",
       "      <td>1422</td>\n",
       "    </tr>\n",
       "    <tr>\n",
       "      <th>3</th>\n",
       "      <td>1000001</td>\n",
       "      <td>P00085442</td>\n",
       "      <td>F</td>\n",
       "      <td>0-17</td>\n",
       "      <td>10</td>\n",
       "      <td>A</td>\n",
       "      <td>2</td>\n",
       "      <td>0</td>\n",
       "      <td>12</td>\n",
       "      <td>1057</td>\n",
       "    </tr>\n",
       "    <tr>\n",
       "      <th>4</th>\n",
       "      <td>1000002</td>\n",
       "      <td>P00285442</td>\n",
       "      <td>M</td>\n",
       "      <td>55+</td>\n",
       "      <td>16</td>\n",
       "      <td>C</td>\n",
       "      <td>4+</td>\n",
       "      <td>0</td>\n",
       "      <td>8</td>\n",
       "      <td>7969</td>\n",
       "    </tr>\n",
       "  </tbody>\n",
       "</table>\n",
       "</div>"
      ],
      "text/plain": [
       "   User_ID Product_ID Gender   Age  Occupation City_Category  \\\n",
       "0  1000001  P00069042      F  0-17          10             A   \n",
       "1  1000001  P00248942      F  0-17          10             A   \n",
       "2  1000001  P00087842      F  0-17          10             A   \n",
       "3  1000001  P00085442      F  0-17          10             A   \n",
       "4  1000002  P00285442      M   55+          16             C   \n",
       "\n",
       "  Stay_In_Current_City_Years  Marital_Status  Product_Category  Purchase  \n",
       "0                          2               0                 3      8370  \n",
       "1                          2               0                 1     15200  \n",
       "2                          2               0                12      1422  \n",
       "3                          2               0                12      1057  \n",
       "4                         4+               0                 8      7969  "
      ]
     },
     "execution_count": 267,
     "metadata": {},
     "output_type": "execute_result"
    }
   ],
   "source": [
    "data.head()"
   ]
  },
  {
   "cell_type": "code",
   "execution_count": 268,
   "id": "db7fb135",
   "metadata": {},
   "outputs": [
    {
     "data": {
      "text/plain": [
       "5891"
      ]
     },
     "execution_count": 268,
     "metadata": {},
     "output_type": "execute_result"
    }
   ],
   "source": [
    "data['User_ID'].nunique()"
   ]
  },
  {
   "cell_type": "code",
   "execution_count": 269,
   "id": "42effe60",
   "metadata": {},
   "outputs": [
    {
     "data": {
      "text/plain": [
       "M    414259\n",
       "F    135809\n",
       "Name: Gender, dtype: int64"
      ]
     },
     "execution_count": 269,
     "metadata": {},
     "output_type": "execute_result"
    }
   ],
   "source": [
    "data['Gender'].value_counts()"
   ]
  },
  {
   "cell_type": "code",
   "execution_count": 270,
   "id": "d027ee45",
   "metadata": {},
   "outputs": [
    {
     "data": {
      "text/plain": [
       "4225"
      ]
     },
     "execution_count": 270,
     "metadata": {},
     "output_type": "execute_result"
    }
   ],
   "source": [
    "male_data=data[data['Gender']=='M']\n",
    "male_data['User_ID'].nunique()"
   ]
  },
  {
   "cell_type": "code",
   "execution_count": 271,
   "id": "16f0fbd8",
   "metadata": {},
   "outputs": [
    {
     "data": {
      "text/plain": [
       "1666"
      ]
     },
     "execution_count": 271,
     "metadata": {},
     "output_type": "execute_result"
    }
   ],
   "source": [
    "female_data=data[data['Gender']=='F']\n",
    "female_data['User_ID'].nunique()"
   ]
  },
  {
   "cell_type": "code",
   "execution_count": 272,
   "id": "312fbd79",
   "metadata": {},
   "outputs": [
    {
     "data": {
      "text/plain": [
       "98.0494674556213"
      ]
     },
     "execution_count": 272,
     "metadata": {},
     "output_type": "execute_result"
    }
   ],
   "source": [
    "414259/4225"
   ]
  },
  {
   "cell_type": "code",
   "execution_count": 273,
   "id": "e241b583",
   "metadata": {},
   "outputs": [
    {
     "data": {
      "text/plain": [
       "81.51800720288115"
      ]
     },
     "execution_count": 273,
     "metadata": {},
     "output_type": "execute_result"
    }
   ],
   "source": [
    "135809/1666"
   ]
  },
  {
   "cell_type": "code",
   "execution_count": 274,
   "id": "aed2df6a",
   "metadata": {},
   "outputs": [
    {
     "data": {
      "text/plain": [
       "5     150933\n",
       "1     140378\n",
       "8     113925\n",
       "11     24287\n",
       "2      23864\n",
       "6      20466\n",
       "3      20213\n",
       "4      11753\n",
       "16      9828\n",
       "15      6290\n",
       "13      5549\n",
       "10      5125\n",
       "12      3947\n",
       "7       3721\n",
       "18      3125\n",
       "20      2550\n",
       "19      1603\n",
       "14      1523\n",
       "17       578\n",
       "9        410\n",
       "Name: Product_Category, dtype: int64"
      ]
     },
     "execution_count": 274,
     "metadata": {},
     "output_type": "execute_result"
    }
   ],
   "source": [
    "data['Product_Category'].value_counts()"
   ]
  },
  {
   "cell_type": "code",
   "execution_count": 275,
   "id": "c9e3b068",
   "metadata": {},
   "outputs": [
    {
     "data": {
      "text/html": [
       "<div>\n",
       "<style scoped>\n",
       "    .dataframe tbody tr th:only-of-type {\n",
       "        vertical-align: middle;\n",
       "    }\n",
       "\n",
       "    .dataframe tbody tr th {\n",
       "        vertical-align: top;\n",
       "    }\n",
       "\n",
       "    .dataframe thead th {\n",
       "        text-align: right;\n",
       "    }\n",
       "</style>\n",
       "<table border=\"1\" class=\"dataframe\">\n",
       "  <thead>\n",
       "    <tr style=\"text-align: right;\">\n",
       "      <th></th>\n",
       "      <th>User_ID</th>\n",
       "      <th>Occupation</th>\n",
       "      <th>Marital_Status</th>\n",
       "      <th>Product_Category</th>\n",
       "      <th>Purchase</th>\n",
       "    </tr>\n",
       "  </thead>\n",
       "  <tbody>\n",
       "    <tr>\n",
       "      <th>count</th>\n",
       "      <td>5.500680e+05</td>\n",
       "      <td>550068.000000</td>\n",
       "      <td>550068.000000</td>\n",
       "      <td>550068.000000</td>\n",
       "      <td>550068.000000</td>\n",
       "    </tr>\n",
       "    <tr>\n",
       "      <th>mean</th>\n",
       "      <td>1.003029e+06</td>\n",
       "      <td>8.076707</td>\n",
       "      <td>0.409653</td>\n",
       "      <td>5.404270</td>\n",
       "      <td>9263.968713</td>\n",
       "    </tr>\n",
       "    <tr>\n",
       "      <th>std</th>\n",
       "      <td>1.727592e+03</td>\n",
       "      <td>6.522660</td>\n",
       "      <td>0.491770</td>\n",
       "      <td>3.936211</td>\n",
       "      <td>5023.065394</td>\n",
       "    </tr>\n",
       "    <tr>\n",
       "      <th>min</th>\n",
       "      <td>1.000001e+06</td>\n",
       "      <td>0.000000</td>\n",
       "      <td>0.000000</td>\n",
       "      <td>1.000000</td>\n",
       "      <td>12.000000</td>\n",
       "    </tr>\n",
       "    <tr>\n",
       "      <th>25%</th>\n",
       "      <td>1.001516e+06</td>\n",
       "      <td>2.000000</td>\n",
       "      <td>0.000000</td>\n",
       "      <td>1.000000</td>\n",
       "      <td>5823.000000</td>\n",
       "    </tr>\n",
       "    <tr>\n",
       "      <th>50%</th>\n",
       "      <td>1.003077e+06</td>\n",
       "      <td>7.000000</td>\n",
       "      <td>0.000000</td>\n",
       "      <td>5.000000</td>\n",
       "      <td>8047.000000</td>\n",
       "    </tr>\n",
       "    <tr>\n",
       "      <th>75%</th>\n",
       "      <td>1.004478e+06</td>\n",
       "      <td>14.000000</td>\n",
       "      <td>1.000000</td>\n",
       "      <td>8.000000</td>\n",
       "      <td>12054.000000</td>\n",
       "    </tr>\n",
       "    <tr>\n",
       "      <th>max</th>\n",
       "      <td>1.006040e+06</td>\n",
       "      <td>20.000000</td>\n",
       "      <td>1.000000</td>\n",
       "      <td>20.000000</td>\n",
       "      <td>23961.000000</td>\n",
       "    </tr>\n",
       "  </tbody>\n",
       "</table>\n",
       "</div>"
      ],
      "text/plain": [
       "            User_ID     Occupation  Marital_Status  Product_Category  \\\n",
       "count  5.500680e+05  550068.000000   550068.000000     550068.000000   \n",
       "mean   1.003029e+06       8.076707        0.409653          5.404270   \n",
       "std    1.727592e+03       6.522660        0.491770          3.936211   \n",
       "min    1.000001e+06       0.000000        0.000000          1.000000   \n",
       "25%    1.001516e+06       2.000000        0.000000          1.000000   \n",
       "50%    1.003077e+06       7.000000        0.000000          5.000000   \n",
       "75%    1.004478e+06      14.000000        1.000000          8.000000   \n",
       "max    1.006040e+06      20.000000        1.000000         20.000000   \n",
       "\n",
       "            Purchase  \n",
       "count  550068.000000  \n",
       "mean     9263.968713  \n",
       "std      5023.065394  \n",
       "min        12.000000  \n",
       "25%      5823.000000  \n",
       "50%      8047.000000  \n",
       "75%     12054.000000  \n",
       "max     23961.000000  "
      ]
     },
     "execution_count": 275,
     "metadata": {},
     "output_type": "execute_result"
    }
   ],
   "source": [
    "data.describe()"
   ]
  },
  {
   "cell_type": "code",
   "execution_count": 276,
   "id": "820b9a27",
   "metadata": {},
   "outputs": [
    {
     "data": {
      "text/html": [
       "<div>\n",
       "<style scoped>\n",
       "    .dataframe tbody tr th:only-of-type {\n",
       "        vertical-align: middle;\n",
       "    }\n",
       "\n",
       "    .dataframe tbody tr th {\n",
       "        vertical-align: top;\n",
       "    }\n",
       "\n",
       "    .dataframe thead th {\n",
       "        text-align: right;\n",
       "    }\n",
       "</style>\n",
       "<table border=\"1\" class=\"dataframe\">\n",
       "  <thead>\n",
       "    <tr style=\"text-align: right;\">\n",
       "      <th></th>\n",
       "      <th>User_ID</th>\n",
       "      <th>Occupation</th>\n",
       "      <th>Marital_Status</th>\n",
       "      <th>Product_Category</th>\n",
       "      <th>Purchase</th>\n",
       "    </tr>\n",
       "  </thead>\n",
       "  <tbody>\n",
       "    <tr>\n",
       "      <th>count</th>\n",
       "      <td>1.358090e+05</td>\n",
       "      <td>135809.000000</td>\n",
       "      <td>135809.000000</td>\n",
       "      <td>135809.000000</td>\n",
       "      <td>135809.000000</td>\n",
       "    </tr>\n",
       "    <tr>\n",
       "      <th>mean</th>\n",
       "      <td>1.003130e+06</td>\n",
       "      <td>6.740540</td>\n",
       "      <td>0.419619</td>\n",
       "      <td>5.717714</td>\n",
       "      <td>8734.565765</td>\n",
       "    </tr>\n",
       "    <tr>\n",
       "      <th>std</th>\n",
       "      <td>1.786631e+03</td>\n",
       "      <td>6.239639</td>\n",
       "      <td>0.493498</td>\n",
       "      <td>3.696752</td>\n",
       "      <td>4767.233289</td>\n",
       "    </tr>\n",
       "    <tr>\n",
       "      <th>min</th>\n",
       "      <td>1.000001e+06</td>\n",
       "      <td>0.000000</td>\n",
       "      <td>0.000000</td>\n",
       "      <td>1.000000</td>\n",
       "      <td>12.000000</td>\n",
       "    </tr>\n",
       "    <tr>\n",
       "      <th>25%</th>\n",
       "      <td>1.001569e+06</td>\n",
       "      <td>1.000000</td>\n",
       "      <td>0.000000</td>\n",
       "      <td>3.000000</td>\n",
       "      <td>5433.000000</td>\n",
       "    </tr>\n",
       "    <tr>\n",
       "      <th>50%</th>\n",
       "      <td>1.003159e+06</td>\n",
       "      <td>4.000000</td>\n",
       "      <td>0.000000</td>\n",
       "      <td>5.000000</td>\n",
       "      <td>7914.000000</td>\n",
       "    </tr>\n",
       "    <tr>\n",
       "      <th>75%</th>\n",
       "      <td>1.004765e+06</td>\n",
       "      <td>11.000000</td>\n",
       "      <td>1.000000</td>\n",
       "      <td>8.000000</td>\n",
       "      <td>11400.000000</td>\n",
       "    </tr>\n",
       "    <tr>\n",
       "      <th>max</th>\n",
       "      <td>1.006039e+06</td>\n",
       "      <td>20.000000</td>\n",
       "      <td>1.000000</td>\n",
       "      <td>20.000000</td>\n",
       "      <td>23959.000000</td>\n",
       "    </tr>\n",
       "  </tbody>\n",
       "</table>\n",
       "</div>"
      ],
      "text/plain": [
       "            User_ID     Occupation  Marital_Status  Product_Category  \\\n",
       "count  1.358090e+05  135809.000000   135809.000000     135809.000000   \n",
       "mean   1.003130e+06       6.740540        0.419619          5.717714   \n",
       "std    1.786631e+03       6.239639        0.493498          3.696752   \n",
       "min    1.000001e+06       0.000000        0.000000          1.000000   \n",
       "25%    1.001569e+06       1.000000        0.000000          3.000000   \n",
       "50%    1.003159e+06       4.000000        0.000000          5.000000   \n",
       "75%    1.004765e+06      11.000000        1.000000          8.000000   \n",
       "max    1.006039e+06      20.000000        1.000000         20.000000   \n",
       "\n",
       "            Purchase  \n",
       "count  135809.000000  \n",
       "mean     8734.565765  \n",
       "std      4767.233289  \n",
       "min        12.000000  \n",
       "25%      5433.000000  \n",
       "50%      7914.000000  \n",
       "75%     11400.000000  \n",
       "max     23959.000000  "
      ]
     },
     "execution_count": 276,
     "metadata": {},
     "output_type": "execute_result"
    }
   ],
   "source": [
    "female_data.describe()"
   ]
  },
  {
   "cell_type": "code",
   "execution_count": 277,
   "id": "d8aac44c",
   "metadata": {},
   "outputs": [
    {
     "data": {
      "text/plain": [
       "5567"
      ]
     },
     "execution_count": 277,
     "metadata": {},
     "output_type": "execute_result"
    }
   ],
   "source": [
    "11400-5833"
   ]
  },
  {
   "cell_type": "code",
   "execution_count": null,
   "id": "053d2f55",
   "metadata": {},
   "outputs": [],
   "source": []
  },
  {
   "cell_type": "code",
   "execution_count": 278,
   "id": "fee1256d",
   "metadata": {},
   "outputs": [
    {
     "data": {
      "text/plain": [
       "Text(0.5, 0, 'Female Customers')"
      ]
     },
     "execution_count": 278,
     "metadata": {},
     "output_type": "execute_result"
    },
    {
     "data": {
      "image/png": "[encoded data removed]",
      "text/plain": [
       "<Figure size 640x480 with 1 Axes>"
      ]
     },
     "metadata": {},
     "output_type": "display_data"
    }
   ],
   "source": [
    "sns.boxplot(y=female_data['Purchase'])\n",
    "plt.xlabel('Female Customers')"
   ]
  },
  {
   "cell_type": "code",
   "execution_count": 279,
   "id": "845b86b4",
   "metadata": {},
   "outputs": [
    {
     "data": {
      "text/plain": [
       "19750.5"
      ]
     },
     "execution_count": 279,
     "metadata": {},
     "output_type": "execute_result"
    }
   ],
   "source": [
    "11400+(1.5*5567)"
   ]
  },
  {
   "cell_type": "code",
   "execution_count": 280,
   "id": "11bc5950",
   "metadata": {},
   "outputs": [
    {
     "data": {
      "text/plain": [
       "2997"
      ]
     },
     "execution_count": 280,
     "metadata": {},
     "output_type": "execute_result"
    }
   ],
   "source": [
    "(female_data['Purchase']>19750.5).sum()"
   ]
  },
  {
   "cell_type": "code",
   "execution_count": 281,
   "id": "e362a3aa",
   "metadata": {},
   "outputs": [
    {
     "name": "stdout",
     "output_type": "stream",
     "text": [
      "<class 'pandas.core.frame.DataFrame'>\n",
      "Int64Index: 135809 entries, 0 to 550067\n",
      "Data columns (total 10 columns):\n",
      " #   Column                      Non-Null Count   Dtype \n",
      "---  ------                      --------------   ----- \n",
      " 0   User_ID                     135809 non-null  int64 \n",
      " 1   Product_ID                  135809 non-null  object\n",
      " 2   Gender                      135809 non-null  object\n",
      " 3   Age                         135809 non-null  object\n",
      " 4   Occupation                  135809 non-null  int64 \n",
      " 5   City_Category               135809 non-null  object\n",
      " 6   Stay_In_Current_City_Years  135809 non-null  object\n",
      " 7   Marital_Status              135809 non-null  int64 \n",
      " 8   Product_Category            135809 non-null  int64 \n",
      " 9   Purchase                    135809 non-null  int64 \n",
      "dtypes: int64(5), object(5)\n",
      "memory usage: 11.4+ MB\n"
     ]
    }
   ],
   "source": [
    "female_data.info()"
   ]
  },
  {
   "cell_type": "code",
   "execution_count": 282,
   "id": "463d7de7",
   "metadata": {},
   "outputs": [],
   "source": [
    "#CENTRAL LIMIT THEOREM"
   ]
  },
  {
   "cell_type": "code",
   "execution_count": 283,
   "id": "a9c1f856",
   "metadata": {},
   "outputs": [
    {
     "data": {
      "text/plain": [
       "8734.565765155476"
      ]
     },
     "execution_count": 283,
     "metadata": {},
     "output_type": "execute_result"
    }
   ],
   "source": [
    "female_data['Purchase'].mean()"
   ]
  },
  {
   "cell_type": "code",
   "execution_count": 284,
   "id": "8406736f",
   "metadata": {},
   "outputs": [
    {
     "data": {
      "text/plain": [
       "4767.233289291444"
      ]
     },
     "execution_count": 284,
     "metadata": {},
     "output_type": "execute_result"
    }
   ],
   "source": [
    "female_data['Purchase'].std()"
   ]
  },
  {
   "cell_type": "code",
   "execution_count": 285,
   "id": "73ee9780",
   "metadata": {},
   "outputs": [
    {
     "data": {
      "text/plain": [
       "Text(0.5, 0, 'Male Purchases')"
      ]
     },
     "execution_count": 285,
     "metadata": {},
     "output_type": "execute_result"
    },
    {
     "data": {
      "image/png": "[encoded data removed]",
      "text/plain": [
       "<Figure size 640x480 with 1 Axes>"
      ]
     },
     "metadata": {},
     "output_type": "display_data"
    }
   ],
   "source": [
    "sns.histplot(male_data['Purchase'])\n",
    "plt.xlabel('Male Purchases')"
   ]
  },
  {
   "cell_type": "code",
   "execution_count": 286,
   "id": "5c054491",
   "metadata": {},
   "outputs": [],
   "source": [
    "sample_means_male=[]\n",
    "sample_means_female=[]"
   ]
  },
  {
   "cell_type": "code",
   "execution_count": 287,
   "id": "79bade29",
   "metadata": {},
   "outputs": [],
   "source": [
    "for i in range(1000):\n",
    "    sample_m=np.random.choice(male_data['Purchase'],size=100)\n",
    "    sample_means_male.append(np.mean(sample_m))\n",
    "    sample_f=np.random.choice(female_data['Purchase'],size=100)\n",
    "    sample_means_female.append(np.mean(sample_f))"
   ]
  },
  {
   "cell_type": "code",
   "execution_count": 288,
   "id": "26f023c9",
   "metadata": {},
   "outputs": [
    {
     "data": {
      "text/plain": [
       "9443.26258"
      ]
     },
     "execution_count": 288,
     "metadata": {},
     "output_type": "execute_result"
    }
   ],
   "source": [
    "np.mean(sample_means_male)"
   ]
  },
  {
   "cell_type": "code",
   "execution_count": 289,
   "id": "a3bb6957",
   "metadata": {},
   "outputs": [
    {
     "data": {
      "text/plain": [
       "8734.00328"
      ]
     },
     "execution_count": 289,
     "metadata": {},
     "output_type": "execute_result"
    }
   ],
   "source": [
    "np.mean(sample_means_female)"
   ]
  },
  {
   "cell_type": "code",
   "execution_count": 290,
   "id": "0daa0e6e",
   "metadata": {},
   "outputs": [
    {
     "data": {
      "text/plain": [
       "48.72784509921854"
      ]
     },
     "execution_count": 290,
     "metadata": {},
     "output_type": "execute_result"
    }
   ],
   "source": [
    "np.std(sample_means_male)/np.sqrt(100)"
   ]
  },
  {
   "cell_type": "code",
   "execution_count": 291,
   "id": "58b81a19",
   "metadata": {},
   "outputs": [
    {
     "data": {
      "text/plain": [
       "47.744720018934196"
      ]
     },
     "execution_count": 291,
     "metadata": {},
     "output_type": "execute_result"
    }
   ],
   "source": [
    "np.std(sample_means_female)/np.sqrt(100)"
   ]
  },
  {
   "cell_type": "code",
   "execution_count": 303,
   "id": "8eeb1518",
   "metadata": {},
   "outputs": [
    {
     "data": {
      "text/plain": [
       "Text(0.5, 0, 'Female Sampling Mean Distribution')"
      ]
     },
     "execution_count": 303,
     "metadata": {},
     "output_type": "execute_result"
    },
    {
     "data": {
      "image/png": "[encoded data removed]",
      "text/plain": [
       "<Figure size 1000x300 with 2 Axes>"
      ]
     },
     "metadata": {},
     "output_type": "display_data"
    }
   ],
   "source": [
    "plt.figure(figsize=(10,3))\n",
    "plt.subplot(1,2,1)\n",
    "sns.histplot(sample_means_male)\n",
    "plt.xlabel('Male Sampling Mean Distribution')\n",
    "plt.subplot(1,2,2)\n",
    "sns.histplot(sample_means_female)\n",
    "plt.xlabel('Female Sampling Mean Distribution')"
   ]
  },
  {
   "cell_type": "code",
   "execution_count": 293,
   "id": "64a20a39",
   "metadata": {},
   "outputs": [],
   "source": [
    "from scipy.stats import norm"
   ]
  },
  {
   "cell_type": "code",
   "execution_count": 304,
   "id": "421e0ae9",
   "metadata": {},
   "outputs": [],
   "source": [
    "# Calculating Confidence Interval At 90%."
   ]
  },
  {
   "cell_type": "code",
   "execution_count": 305,
   "id": "49a8dca3",
   "metadata": {},
   "outputs": [
    {
     "data": {
      "text/plain": [
       "(9363.112407255021, 9523.41275274498)"
      ]
     },
     "execution_count": 305,
     "metadata": {},
     "output_type": "execute_result"
    }
   ],
   "source": [
    "norm(loc=np.mean(sample_means_male),scale=np.std(sample_means_male)/np.sqrt(100)).interval(0.90)"
   ]
  },
  {
   "cell_type": "code",
   "execution_count": 306,
   "id": "73fefbbb",
   "metadata": {},
   "outputs": [
    {
     "data": {
      "text/plain": [
       "(8655.470204109075, 8812.536355890927)"
      ]
     },
     "execution_count": 306,
     "metadata": {},
     "output_type": "execute_result"
    }
   ],
   "source": [
    "norm(loc=np.mean(sample_means_female),scale=np.std(sample_means_female)/np.sqrt(100)).interval(0.90)"
   ]
  },
  {
   "cell_type": "code",
   "execution_count": 297,
   "id": "bb588c4f",
   "metadata": {},
   "outputs": [],
   "source": [
    "# Calculating Confidence Interval At 95%."
   ]
  },
  {
   "cell_type": "code",
   "execution_count": 298,
   "id": "10e2d1cd",
   "metadata": {},
   "outputs": [
    {
     "data": {
      "text/plain": [
       "(9347.757758561285, 9538.767401438716)"
      ]
     },
     "execution_count": 298,
     "metadata": {},
     "output_type": "execute_result"
    }
   ],
   "source": [
    "norm(loc=np.mean(sample_means_male),scale=np.std(sample_means_male)/np.sqrt(100)).interval(0.95)"
   ]
  },
  {
   "cell_type": "code",
   "execution_count": 299,
   "id": "81d6e15c",
   "metadata": {},
   "outputs": [
    {
     "data": {
      "text/plain": [
       "(8563.154133097416, 8904.852426902586)"
      ]
     },
     "execution_count": 299,
     "metadata": {},
     "output_type": "execute_result"
    }
   ],
   "source": [
    "norm(loc=np.mean(sample_means_female),scale=np.std(sample_means_female)/np.sqrt(30)).interval(0.95)"
   ]
  },
  {
   "cell_type": "code",
   "execution_count": 300,
   "id": "161db11f",
   "metadata": {},
   "outputs": [],
   "source": [
    "# Calculating Confidence Interval At 99%."
   ]
  },
  {
   "cell_type": "code",
   "execution_count": 301,
   "id": "8d34df9e",
   "metadata": {},
   "outputs": [
    {
     "data": {
      "text/plain": [
       "(9317.747968694643, 9568.777191305358)"
      ]
     },
     "execution_count": 301,
     "metadata": {},
     "output_type": "execute_result"
    }
   ],
   "source": [
    "norm(loc=np.mean(sample_means_male),scale=np.std(sample_means_male)/np.sqrt(100)).interval(0.99)"
   ]
  },
  {
   "cell_type": "code",
   "execution_count": 302,
   "id": "b14be73a",
   "metadata": {},
   "outputs": [
    {
     "data": {
      "text/plain": [
       "(8509.469440322695, 8958.537119677307)"
      ]
     },
     "execution_count": 302,
     "metadata": {},
     "output_type": "execute_result"
    }
   ],
   "source": [
    "norm(loc=np.mean(sample_means_female),scale=np.std(sample_means_female)/np.sqrt(30)).interval(0.99)"
   ]
  },
  {
   "cell_type": "markdown",
   "id": "86c5d482",
   "metadata": {},
   "source": [
    "# Married vs UnMarried"
   ]
  },
  {
   "cell_type": "code",
   "execution_count": 307,
   "id": "f3049fdc",
   "metadata": {},
   "outputs": [
    {
     "data": {
      "text/html": [
       "<div>\n",
       "<style scoped>\n",
       "    .dataframe tbody tr th:only-of-type {\n",
       "        vertical-align: middle;\n",
       "    }\n",
       "\n",
       "    .dataframe tbody tr th {\n",
       "        vertical-align: top;\n",
       "    }\n",
       "\n",
       "    .dataframe thead th {\n",
       "        text-align: right;\n",
       "    }\n",
       "</style>\n",
       "<table border=\"1\" class=\"dataframe\">\n",
       "  <thead>\n",
       "    <tr style=\"text-align: right;\">\n",
       "      <th></th>\n",
       "      <th>User_ID</th>\n",
       "      <th>Product_ID</th>\n",
       "      <th>Gender</th>\n",
       "      <th>Age</th>\n",
       "      <th>Occupation</th>\n",
       "      <th>City_Category</th>\n",
       "      <th>Stay_In_Current_City_Years</th>\n",
       "      <th>Marital_Status</th>\n",
       "      <th>Product_Category</th>\n",
       "      <th>Purchase</th>\n",
       "    </tr>\n",
       "  </thead>\n",
       "  <tbody>\n",
       "    <tr>\n",
       "      <th>0</th>\n",
       "      <td>1000001</td>\n",
       "      <td>P00069042</td>\n",
       "      <td>F</td>\n",
       "      <td>0-17</td>\n",
       "      <td>10</td>\n",
       "      <td>A</td>\n",
       "      <td>2</td>\n",
       "      <td>0</td>\n",
       "      <td>3</td>\n",
       "      <td>8370</td>\n",
       "    </tr>\n",
       "    <tr>\n",
       "      <th>1</th>\n",
       "      <td>1000001</td>\n",
       "      <td>P00248942</td>\n",
       "      <td>F</td>\n",
       "      <td>0-17</td>\n",
       "      <td>10</td>\n",
       "      <td>A</td>\n",
       "      <td>2</td>\n",
       "      <td>0</td>\n",
       "      <td>1</td>\n",
       "      <td>15200</td>\n",
       "    </tr>\n",
       "    <tr>\n",
       "      <th>2</th>\n",
       "      <td>1000001</td>\n",
       "      <td>P00087842</td>\n",
       "      <td>F</td>\n",
       "      <td>0-17</td>\n",
       "      <td>10</td>\n",
       "      <td>A</td>\n",
       "      <td>2</td>\n",
       "      <td>0</td>\n",
       "      <td>12</td>\n",
       "      <td>1422</td>\n",
       "    </tr>\n",
       "    <tr>\n",
       "      <th>3</th>\n",
       "      <td>1000001</td>\n",
       "      <td>P00085442</td>\n",
       "      <td>F</td>\n",
       "      <td>0-17</td>\n",
       "      <td>10</td>\n",
       "      <td>A</td>\n",
       "      <td>2</td>\n",
       "      <td>0</td>\n",
       "      <td>12</td>\n",
       "      <td>1057</td>\n",
       "    </tr>\n",
       "    <tr>\n",
       "      <th>4</th>\n",
       "      <td>1000002</td>\n",
       "      <td>P00285442</td>\n",
       "      <td>M</td>\n",
       "      <td>55+</td>\n",
       "      <td>16</td>\n",
       "      <td>C</td>\n",
       "      <td>4+</td>\n",
       "      <td>0</td>\n",
       "      <td>8</td>\n",
       "      <td>7969</td>\n",
       "    </tr>\n",
       "  </tbody>\n",
       "</table>\n",
       "</div>"
      ],
      "text/plain": [
       "   User_ID Product_ID Gender   Age  Occupation City_Category  \\\n",
       "0  1000001  P00069042      F  0-17          10             A   \n",
       "1  1000001  P00248942      F  0-17          10             A   \n",
       "2  1000001  P00087842      F  0-17          10             A   \n",
       "3  1000001  P00085442      F  0-17          10             A   \n",
       "4  1000002  P00285442      M   55+          16             C   \n",
       "\n",
       "  Stay_In_Current_City_Years  Marital_Status  Product_Category  Purchase  \n",
       "0                          2               0                 3      8370  \n",
       "1                          2               0                 1     15200  \n",
       "2                          2               0                12      1422  \n",
       "3                          2               0                12      1057  \n",
       "4                         4+               0                 8      7969  "
      ]
     },
     "execution_count": 307,
     "metadata": {},
     "output_type": "execute_result"
    }
   ],
   "source": [
    "data.head()"
   ]
  },
  {
   "cell_type": "code",
   "execution_count": 321,
   "id": "9d89610a",
   "metadata": {},
   "outputs": [],
   "source": [
    "married_data=data[data['Marital_Status']==1]\n"
   ]
  },
  {
   "cell_type": "code",
   "execution_count": 322,
   "id": "30109cf9",
   "metadata": {},
   "outputs": [],
   "source": [
    "unmarried_data=data[data['Marital_Status']==0]\n"
   ]
  },
  {
   "cell_type": "code",
   "execution_count": 323,
   "id": "f361018a",
   "metadata": {},
   "outputs": [
    {
     "data": {
      "text/plain": [
       "9261.174574082374"
      ]
     },
     "execution_count": 323,
     "metadata": {},
     "output_type": "execute_result"
    }
   ],
   "source": [
    "married_data['Purchase'].mean()"
   ]
  },
  {
   "cell_type": "code",
   "execution_count": 332,
   "id": "e363d245",
   "metadata": {},
   "outputs": [
    {
     "data": {
      "text/plain": [
       "9265.907618921507"
      ]
     },
     "execution_count": 332,
     "metadata": {},
     "output_type": "execute_result"
    }
   ],
   "source": [
    "unmarried_data['Purchase'].mean()"
   ]
  },
  {
   "cell_type": "code",
   "execution_count": 333,
   "id": "ecf23e57",
   "metadata": {},
   "outputs": [
    {
     "data": {
      "text/plain": [
       "5016.89737779313"
      ]
     },
     "execution_count": 333,
     "metadata": {},
     "output_type": "execute_result"
    }
   ],
   "source": [
    "married_data['Purchase'].std()"
   ]
  },
  {
   "cell_type": "code",
   "execution_count": 334,
   "id": "504d77f5",
   "metadata": {},
   "outputs": [
    {
     "data": {
      "text/plain": [
       "5027.347858674457"
      ]
     },
     "execution_count": 334,
     "metadata": {},
     "output_type": "execute_result"
    }
   ],
   "source": [
    "unmarried_data['Purchase'].std()"
   ]
  },
  {
   "cell_type": "code",
   "execution_count": 335,
   "id": "b0516584",
   "metadata": {},
   "outputs": [
    {
     "data": {
      "text/plain": [
       "Text(0.5, 0, 'Un-Married Transactions')"
      ]
     },
     "execution_count": 335,
     "metadata": {},
     "output_type": "execute_result"
    },
    {
     "data": {
      "image/png": "[encoded data removed]",
      "text/plain": [
       "<Figure size 1000x400 with 2 Axes>"
      ]
     },
     "metadata": {},
     "output_type": "display_data"
    }
   ],
   "source": [
    "plt.figure(figsize=(10,4))\n",
    "plt.subplot(1,2,1)\n",
    "sns.histplot(married_data['Purchase'])\n",
    "plt.xlabel('Married Transactions')\n",
    "plt.subplot(1,2,2)\n",
    "sns.histplot(unmarried_data['Purchase'])\n",
    "plt.xlabel('Un-Married Transactions')"
   ]
  },
  {
   "cell_type": "code",
   "execution_count": 377,
   "id": "20566287",
   "metadata": {},
   "outputs": [],
   "source": [
    "sample_means_m_30=[]\n",
    "sample_means_un_30=[]\n",
    "sample_means_m_100=[]\n",
    "sample_means_un_100=[]"
   ]
  },
  {
   "cell_type": "code",
   "execution_count": 378,
   "id": "12c48cfb",
   "metadata": {},
   "outputs": [],
   "source": [
    "for i in range(1000):\n",
    "    sample_m=np.random.choice(married_data['Purchase'],size=30)\n",
    "    sample_means_m_30.append(np.mean(sample_m))\n",
    "    sample_f=np.random.choice(unmarried_data['Purchase'],size=30)\n",
    "    sample_means_un_30.append(np.mean(sample_f))\n",
    "    sample_n=np.random.choice(married_data['Purchase'],size=100)\n",
    "    sample_means_m_100.append(np.mean(sample_n))\n",
    "    sample_d=np.random.choice(unmarried_data['Purchase'],size=100)\n",
    "    sample_means_un_100.append(np.mean(sample_d))"
   ]
  },
  {
   "cell_type": "code",
   "execution_count": 379,
   "id": "3dcec20d",
   "metadata": {},
   "outputs": [
    {
     "data": {
      "text/plain": [
       "9234.734666666665"
      ]
     },
     "execution_count": 379,
     "metadata": {},
     "output_type": "execute_result"
    }
   ],
   "source": [
    "np.mean(sample_means_m_30)"
   ]
  },
  {
   "cell_type": "code",
   "execution_count": 380,
   "id": "269d5349",
   "metadata": {},
   "outputs": [
    {
     "data": {
      "text/plain": [
       "9280.54043"
      ]
     },
     "execution_count": 380,
     "metadata": {},
     "output_type": "execute_result"
    }
   ],
   "source": [
    "np.mean(sample_means_un_100)"
   ]
  },
  {
   "cell_type": "code",
   "execution_count": 369,
   "id": "15a46974",
   "metadata": {},
   "outputs": [
    {
     "data": {
      "text/plain": [
       "50.89691169958231"
      ]
     },
     "execution_count": 369,
     "metadata": {},
     "output_type": "execute_result"
    }
   ],
   "source": [
    "np.std(sample_means_m)/np.sqrt(100)"
   ]
  },
  {
   "cell_type": "code",
   "execution_count": 370,
   "id": "1f3a33b6",
   "metadata": {},
   "outputs": [
    {
     "data": {
      "text/plain": [
       "51.90436483157653"
      ]
     },
     "execution_count": 370,
     "metadata": {},
     "output_type": "execute_result"
    }
   ],
   "source": [
    "np.std(sample_means_un)/np.sqrt(100)"
   ]
  },
  {
   "cell_type": "code",
   "execution_count": 385,
   "id": "d94da2cc",
   "metadata": {},
   "outputs": [
    {
     "data": {
      "image/png": "[encoded data removed]",
      "text/plain": [
       "<Figure size 1000x800 with 4 Axes>"
      ]
     },
     "metadata": {},
     "output_type": "display_data"
    }
   ],
   "source": [
    "plt.figure(figsize=(10,8))\n",
    "plt.subplot(2,2,1)\n",
    "sns.histplot(sample_means_m_30)\n",
    "plt.xlabel('Married Sampling Mean Distribution Sample Size : 30')\n",
    "plt.subplot(2,2,2)\n",
    "sns.histplot(sample_means_un_30)\n",
    "plt.xlabel('Unmarried Sampling Mean Distribution Sample Size : 30')\n",
    "plt.subplot(2,2,4)\n",
    "sns.histplot(sample_means_m_100)\n",
    "plt.xlabel('Married Sampling Mean Distribution Sample Size : 100')\n",
    "plt.subplot(2,2,3)\n",
    "sns.histplot(sample_means_un_100)\n",
    "plt.xlabel('Unmarried Sampling Mean Distribution Sample Size : 100')\n",
    "plt.show()"
   ]
  },
  {
   "cell_type": "code",
   "execution_count": 388,
   "id": "fcfcffdc",
   "metadata": {},
   "outputs": [],
   "source": [
    "# Calculating Confidence Interval At 90%."
   ]
  },
  {
   "cell_type": "code",
   "execution_count": 484,
   "id": "b99e59de",
   "metadata": {},
   "outputs": [
    {
     "data": {
      "text/plain": [
       "(9020.846846767461, 9580.361353232543)"
      ]
     },
     "execution_count": 484,
     "metadata": {},
     "output_type": "execute_result"
    }
   ],
   "source": [
    "norm(loc=np.mean(sample_means_un_30),scale=np.std(sample_means_un_30)/np.sqrt(30)).interval(0.90)"
   ]
  },
  {
   "cell_type": "code",
   "execution_count": 485,
   "id": "c61c1f55",
   "metadata": {},
   "outputs": [
    {
     "data": {
      "text/plain": [
       "(9196.558709050165, 9364.522150949833)"
      ]
     },
     "execution_count": 485,
     "metadata": {},
     "output_type": "execute_result"
    }
   ],
   "source": [
    "norm(loc=np.mean(sample_means_un_100),scale=np.std(sample_means_un_100)/np.sqrt(100)).interval(0.90)"
   ]
  },
  {
   "cell_type": "code",
   "execution_count": 345,
   "id": "3b74cef7",
   "metadata": {},
   "outputs": [],
   "source": [
    "# Calculating Confidence Interval At 95%."
   ]
  },
  {
   "cell_type": "code",
   "execution_count": 486,
   "id": "24c1d8ea",
   "metadata": {},
   "outputs": [
    {
     "data": {
      "text/plain": [
       "(8967.252772097432, 9633.955427902572)"
      ]
     },
     "execution_count": 486,
     "metadata": {},
     "output_type": "execute_result"
    }
   ],
   "source": [
    "norm(loc=np.mean(sample_means_un_30),scale=np.std(sample_means_un_30)/np.sqrt(30)).interval(0.95)"
   ]
  },
  {
   "cell_type": "code",
   "execution_count": 487,
   "id": "8547c9b2",
   "metadata": {},
   "outputs": [
    {
     "data": {
      "text/plain": [
       "(9180.470037276706, 9380.610822723293)"
      ]
     },
     "execution_count": 487,
     "metadata": {},
     "output_type": "execute_result"
    }
   ],
   "source": [
    "norm(loc=np.mean(sample_means_un_100),scale=np.std(sample_means_un_100)/np.sqrt(100)).interval(0.95)"
   ]
  },
  {
   "cell_type": "code",
   "execution_count": 347,
   "id": "a65cad91",
   "metadata": {},
   "outputs": [],
   "source": [
    "# Calculating Confidence Interval At 99%."
   ]
  },
  {
   "cell_type": "code",
   "execution_count": 488,
   "id": "8065828a",
   "metadata": {},
   "outputs": [
    {
     "data": {
      "text/plain": [
       "(8862.50619332348, 9738.702006676525)"
      ]
     },
     "execution_count": 488,
     "metadata": {},
     "output_type": "execute_result"
    }
   ],
   "source": [
    "norm(loc=np.mean(sample_means_un_30),scale=np.std(sample_means_un_30)/np.sqrt(30)).interval(0.99)"
   ]
  },
  {
   "cell_type": "code",
   "execution_count": 489,
   "id": "adbd34d5",
   "metadata": {},
   "outputs": [
    {
     "data": {
      "text/plain": [
       "(9149.025640938815, 9412.055219061183)"
      ]
     },
     "execution_count": 489,
     "metadata": {},
     "output_type": "execute_result"
    }
   ],
   "source": [
    "norm(loc=np.mean(sample_means_un_100),scale=np.std(sample_means_un_100)/np.sqrt(100)).interval(0.99)"
   ]
  },
  {
   "cell_type": "markdown",
   "id": "57f09be6",
   "metadata": {},
   "source": [
    "# AGE"
   ]
  },
  {
   "cell_type": "code",
   "execution_count": 398,
   "id": "767a9230",
   "metadata": {},
   "outputs": [
    {
     "data": {
      "text/plain": [
       "<AxesSubplot:xlabel='Age', ylabel='Count'>"
      ]
     },
     "execution_count": 398,
     "metadata": {},
     "output_type": "execute_result"
    },
    {
     "data": {
      "image/png": "[encoded data removed]",
      "text/plain": [
       "<Figure size 640x480 with 1 Axes>"
      ]
     },
     "metadata": {},
     "output_type": "display_data"
    }
   ],
   "source": [
    "sns.histplot(data['Age'])"
   ]
  },
  {
   "cell_type": "code",
   "execution_count": 414,
   "id": "4e7d1908",
   "metadata": {},
   "outputs": [],
   "source": [
    "teen=data[data['Age']=='0-17']\n",
    "young_adult=data[data['Age']=='18-25']\n",
    "adult=data[data['Age']=='26-35']\n",
    "l_middle_age=data[data['Age']=='36-45']\n",
    "middle_age=data[data['Age']=='46-50']\n",
    "u_middle_age=data[data['Age']=='51-55']\n",
    "old_age=data[data['Age']=='55+']"
   ]
  },
  {
   "cell_type": "markdown",
   "id": "b46583cf",
   "metadata": {},
   "source": [
    "# Population Means"
   ]
  },
  {
   "cell_type": "code",
   "execution_count": 415,
   "id": "a2e8aa00",
   "metadata": {},
   "outputs": [
    {
     "data": {
      "text/plain": [
       "8933.464640444974"
      ]
     },
     "execution_count": 415,
     "metadata": {},
     "output_type": "execute_result"
    }
   ],
   "source": [
    "teen['Purchase'].mean()"
   ]
  },
  {
   "cell_type": "code",
   "execution_count": 416,
   "id": "680c7db1",
   "metadata": {},
   "outputs": [
    {
     "data": {
      "text/plain": [
       "9169.663606261289"
      ]
     },
     "execution_count": 416,
     "metadata": {},
     "output_type": "execute_result"
    }
   ],
   "source": [
    "young_adult['Purchase'].mean()"
   ]
  },
  {
   "cell_type": "code",
   "execution_count": 417,
   "id": "e75dd84f",
   "metadata": {},
   "outputs": [
    {
     "data": {
      "text/plain": [
       "9252.690632869888"
      ]
     },
     "execution_count": 417,
     "metadata": {},
     "output_type": "execute_result"
    }
   ],
   "source": [
    "adult['Purchase'].mean()"
   ]
  },
  {
   "cell_type": "code",
   "execution_count": 419,
   "id": "c5c7fb0c",
   "metadata": {},
   "outputs": [
    {
     "data": {
      "text/plain": [
       "9331.350694917874"
      ]
     },
     "execution_count": 419,
     "metadata": {},
     "output_type": "execute_result"
    }
   ],
   "source": [
    "l_middle_age['Purchase'].mean()"
   ]
  },
  {
   "cell_type": "code",
   "execution_count": 420,
   "id": "3a17090d",
   "metadata": {},
   "outputs": [
    {
     "data": {
      "text/plain": [
       "9208.625697468327"
      ]
     },
     "execution_count": 420,
     "metadata": {},
     "output_type": "execute_result"
    }
   ],
   "source": [
    "middle_age['Purchase'].mean()"
   ]
  },
  {
   "cell_type": "code",
   "execution_count": 421,
   "id": "d38df5dc",
   "metadata": {},
   "outputs": [
    {
     "data": {
      "text/plain": [
       "9534.808030960236"
      ]
     },
     "execution_count": 421,
     "metadata": {},
     "output_type": "execute_result"
    }
   ],
   "source": [
    "u_middle_age['Purchase'].mean()"
   ]
  },
  {
   "cell_type": "code",
   "execution_count": 423,
   "id": "8f11af22",
   "metadata": {},
   "outputs": [
    {
     "data": {
      "text/plain": [
       "9336.280459449405"
      ]
     },
     "execution_count": 423,
     "metadata": {},
     "output_type": "execute_result"
    }
   ],
   "source": [
    "old_age['Purchase'].mean()"
   ]
  },
  {
   "cell_type": "code",
   "execution_count": 442,
   "id": "6af06e91",
   "metadata": {},
   "outputs": [],
   "source": [
    "sm_teen=[]\n",
    "sm_young_adult=[]\n",
    "sm_adult=[]\n",
    "sm_lm=[]\n",
    "sm_m=[]\n",
    "sm_um=[]\n",
    "sm_o=[]"
   ]
  },
  {
   "cell_type": "code",
   "execution_count": 443,
   "id": "3548e5f7",
   "metadata": {},
   "outputs": [],
   "source": [
    "for i in range(1000):\n",
    "    sample=np.random.choice(teen['Purchase'],size=30)\n",
    "    sm_teen.append(np.mean(sample))\n",
    "    sample=np.random.choice(young_adult['Purchase'],size=30)\n",
    "    sm_young_adult.append(np.mean(sample))\n",
    "    sample=np.random.choice(adult['Purchase'],size=30)\n",
    "    sm_adult.append(np.mean(sample))\n",
    "    sample=np.random.choice(l_middle_age['Purchase'],size=30)\n",
    "    sm_lm.append(np.mean(sample))\n",
    "    sample=np.random.choice(u_middle_age['Purchase'],size=30)\n",
    "    sm_m.append(np.mean(sample))\n",
    "    sample=np.random.choice(middle_age['Purchase'],size=30)\n",
    "    sm_um.append(np.mean(sample))\n",
    "    sample=np.random.choice(old_age['Purchase'],size=30)\n",
    "    sm_o.append(np.mean(sample))\n",
    "   "
   ]
  },
  {
   "cell_type": "markdown",
   "id": "f7a10d99",
   "metadata": {},
   "source": [
    "# Sampling Means"
   ]
  },
  {
   "cell_type": "code",
   "execution_count": 444,
   "id": "2c8a1a67",
   "metadata": {},
   "outputs": [
    {
     "data": {
      "text/plain": [
       "8925.312533333332"
      ]
     },
     "execution_count": 444,
     "metadata": {},
     "output_type": "execute_result"
    }
   ],
   "source": [
    "np.mean(sm_teen)"
   ]
  },
  {
   "cell_type": "code",
   "execution_count": 445,
   "id": "3f06d8e5",
   "metadata": {},
   "outputs": [
    {
     "data": {
      "text/plain": [
       "9188.872"
      ]
     },
     "execution_count": 445,
     "metadata": {},
     "output_type": "execute_result"
    }
   ],
   "source": [
    "np.mean(sm_young_adult)"
   ]
  },
  {
   "cell_type": "code",
   "execution_count": 446,
   "id": "a66f3b66",
   "metadata": {},
   "outputs": [
    {
     "data": {
      "text/plain": [
       "9234.196600000001"
      ]
     },
     "execution_count": 446,
     "metadata": {},
     "output_type": "execute_result"
    }
   ],
   "source": [
    "np.mean(sm_adult)"
   ]
  },
  {
   "cell_type": "code",
   "execution_count": 447,
   "id": "6eefbd3e",
   "metadata": {},
   "outputs": [
    {
     "data": {
      "text/plain": [
       "9345.003633333334"
      ]
     },
     "execution_count": 447,
     "metadata": {},
     "output_type": "execute_result"
    }
   ],
   "source": [
    "np.mean(sm_lm)"
   ]
  },
  {
   "cell_type": "code",
   "execution_count": 448,
   "id": "babdd80e",
   "metadata": {},
   "outputs": [
    {
     "data": {
      "text/plain": [
       "9476.610866666668"
      ]
     },
     "execution_count": 448,
     "metadata": {},
     "output_type": "execute_result"
    }
   ],
   "source": [
    "np.mean(sm_m)"
   ]
  },
  {
   "cell_type": "code",
   "execution_count": 449,
   "id": "b7410ab7",
   "metadata": {},
   "outputs": [
    {
     "data": {
      "text/plain": [
       "9195.4629"
      ]
     },
     "execution_count": 449,
     "metadata": {},
     "output_type": "execute_result"
    }
   ],
   "source": [
    "np.mean(sm_um)\n"
   ]
  },
  {
   "cell_type": "code",
   "execution_count": 450,
   "id": "cdef384b",
   "metadata": {},
   "outputs": [
    {
     "data": {
      "text/plain": [
       "9356.598833333333"
      ]
     },
     "execution_count": 450,
     "metadata": {},
     "output_type": "execute_result"
    }
   ],
   "source": [
    "np.mean(sm_o)"
   ]
  },
  {
   "cell_type": "code",
   "execution_count": 474,
   "id": "841c6cde",
   "metadata": {},
   "outputs": [],
   "source": [
    "# Calculating Confidence Interval At 90%,95%,99% - Old_Age"
   ]
  },
  {
   "cell_type": "code",
   "execution_count": 481,
   "id": "2545cf5e",
   "metadata": {},
   "outputs": [
    {
     "data": {
      "text/plain": [
       "(9081.40957201267, 9631.788094653997)"
      ]
     },
     "execution_count": 481,
     "metadata": {},
     "output_type": "execute_result"
    }
   ],
   "source": [
    "norm(loc=np.mean(sm_o),scale=np.std(sm_o)/np.sqrt(30)).interval(0.90)"
   ]
  },
  {
   "cell_type": "code",
   "execution_count": 482,
   "id": "d709837e",
   "metadata": {},
   "outputs": [
    {
     "data": {
      "text/plain": [
       "(9028.69060351697, 9684.507063149696)"
      ]
     },
     "execution_count": 482,
     "metadata": {},
     "output_type": "execute_result"
    }
   ],
   "source": [
    "norm(loc=np.mean(sm_o),scale=np.std(sm_o)/np.sqrt(30)).interval(0.95)"
   ]
  },
  {
   "cell_type": "code",
   "execution_count": 483,
   "id": "ba491f80",
   "metadata": {},
   "outputs": [
    {
     "data": {
      "text/plain": [
       "(8925.654370119615, 9787.543296547052)"
      ]
     },
     "execution_count": 483,
     "metadata": {},
     "output_type": "execute_result"
    }
   ],
   "source": [
    "norm(loc=np.mean(sm_o),scale=np.std(sm_o)/np.sqrt(30)).interval(0.99)"
   ]
  },
  {
   "cell_type": "code",
   "execution_count": null,
   "id": "e3bb78f3",
   "metadata": {},
   "outputs": [],
   "source": []
  }
 ],
 "metadata": {
  "kernelspec": {
   "display_name": "Python 3 (ipykernel)",
   "language": "python",
   "name": "python3"
  },
  "language_info": {
   "codemirror_mode": {
    "name": "ipython",
    "version": 3
   },
   "file_extension": ".py",
   "mimetype": "text/x-python",
   "name": "python",
   "nbconvert_exporter": "python",
   "pygments_lexer": "ipython3",
   "version": "3.9.13"
  }
 },
 "nbformat": 4,
 "nbformat_minor": 5
}
